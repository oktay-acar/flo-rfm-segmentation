{
 "cells": [
  {
   "cell_type": "markdown",
   "metadata": {},
   "source": [
    "# Customer Segmentation with RFM *(Recency, Frequency, Monetary)* Analysis using FLO's Dataset"
   ]
  },
  {
   "cell_type": "code",
   "execution_count": 1,
   "metadata": {},
   "outputs": [],
   "source": [
    "# Libraries\n",
    "import pandas as pd\n",
    "import datetime as dt\n",
    "\n",
    "# Settings\n",
    "pd.set_option('display.float_format', lambda x: '%.3f' % x)"
   ]
  },
  {
   "attachments": {},
   "cell_type": "markdown",
   "metadata": {},
   "source": [
    "# Task 1: \n",
    "Data Understanding and Preparation."
   ]
  },
  {
   "attachments": {},
   "cell_type": "markdown",
   "metadata": {},
   "source": [
    "Step 1: Read the flo_data_20K.csv data. Make a copy of the dataframe."
   ]
  },
  {
   "cell_type": "code",
   "execution_count": 2,
   "metadata": {},
   "outputs": [],
   "source": [
    "df_ = pd.read_csv('flo_data_20k.csv')"
   ]
  },
  {
   "cell_type": "code",
   "execution_count": 3,
   "metadata": {},
   "outputs": [],
   "source": [
    "df = df_.copy()"
   ]
  },
  {
   "attachments": {},
   "cell_type": "markdown",
   "metadata": {},
   "source": [
    "Step 2: Examine the following in the dataset:\n",
    "1. The first 10 observations\n",
    "2. Variable names\n",
    "3. Shape\n",
    "4. Descriptive statistics\n",
    "5. Null value\n",
    "6. Variable types"
   ]
  },
  {
   "cell_type": "code",
   "execution_count": 4,
   "metadata": {},
   "outputs": [
    {
     "data": {
      "text/html": [
       "<div>\n",
       "<style scoped>\n",
       "    .dataframe tbody tr th:only-of-type {\n",
       "        vertical-align: middle;\n",
       "    }\n",
       "\n",
       "    .dataframe tbody tr th {\n",
       "        vertical-align: top;\n",
       "    }\n",
       "\n",
       "    .dataframe thead th {\n",
       "        text-align: right;\n",
       "    }\n",
       "</style>\n",
       "<table border=\"1\" class=\"dataframe\">\n",
       "  <thead>\n",
       "    <tr style=\"text-align: right;\">\n",
       "      <th></th>\n",
       "      <th>master_id</th>\n",
       "      <th>order_channel</th>\n",
       "      <th>last_order_channel</th>\n",
       "      <th>first_order_date</th>\n",
       "      <th>last_order_date</th>\n",
       "      <th>last_order_date_online</th>\n",
       "      <th>last_order_date_offline</th>\n",
       "      <th>order_num_total_ever_online</th>\n",
       "      <th>order_num_total_ever_offline</th>\n",
       "      <th>customer_value_total_ever_offline</th>\n",
       "      <th>customer_value_total_ever_online</th>\n",
       "      <th>interested_in_categories_12</th>\n",
       "    </tr>\n",
       "  </thead>\n",
       "  <tbody>\n",
       "    <tr>\n",
       "      <th>0</th>\n",
       "      <td>cc294636-19f0-11eb-8d74-000d3a38a36f</td>\n",
       "      <td>Android App</td>\n",
       "      <td>Offline</td>\n",
       "      <td>2020-10-30</td>\n",
       "      <td>2021-02-26</td>\n",
       "      <td>2021-02-21</td>\n",
       "      <td>2021-02-26</td>\n",
       "      <td>4.000</td>\n",
       "      <td>1.000</td>\n",
       "      <td>139.990</td>\n",
       "      <td>799.380</td>\n",
       "      <td>[KADIN]</td>\n",
       "    </tr>\n",
       "    <tr>\n",
       "      <th>1</th>\n",
       "      <td>f431bd5a-ab7b-11e9-a2fc-000d3a38a36f</td>\n",
       "      <td>Android App</td>\n",
       "      <td>Mobile</td>\n",
       "      <td>2017-02-08</td>\n",
       "      <td>2021-02-16</td>\n",
       "      <td>2021-02-16</td>\n",
       "      <td>2020-01-10</td>\n",
       "      <td>19.000</td>\n",
       "      <td>2.000</td>\n",
       "      <td>159.970</td>\n",
       "      <td>1853.580</td>\n",
       "      <td>[ERKEK, COCUK, KADIN, AKTIFSPOR]</td>\n",
       "    </tr>\n",
       "    <tr>\n",
       "      <th>2</th>\n",
       "      <td>69b69676-1a40-11ea-941b-000d3a38a36f</td>\n",
       "      <td>Android App</td>\n",
       "      <td>Android App</td>\n",
       "      <td>2019-11-27</td>\n",
       "      <td>2020-11-27</td>\n",
       "      <td>2020-11-27</td>\n",
       "      <td>2019-12-01</td>\n",
       "      <td>3.000</td>\n",
       "      <td>2.000</td>\n",
       "      <td>189.970</td>\n",
       "      <td>395.350</td>\n",
       "      <td>[ERKEK, KADIN]</td>\n",
       "    </tr>\n",
       "    <tr>\n",
       "      <th>3</th>\n",
       "      <td>1854e56c-491f-11eb-806e-000d3a38a36f</td>\n",
       "      <td>Android App</td>\n",
       "      <td>Android App</td>\n",
       "      <td>2021-01-06</td>\n",
       "      <td>2021-01-17</td>\n",
       "      <td>2021-01-17</td>\n",
       "      <td>2021-01-06</td>\n",
       "      <td>1.000</td>\n",
       "      <td>1.000</td>\n",
       "      <td>39.990</td>\n",
       "      <td>81.980</td>\n",
       "      <td>[AKTIFCOCUK, COCUK]</td>\n",
       "    </tr>\n",
       "    <tr>\n",
       "      <th>4</th>\n",
       "      <td>d6ea1074-f1f5-11e9-9346-000d3a38a36f</td>\n",
       "      <td>Desktop</td>\n",
       "      <td>Desktop</td>\n",
       "      <td>2019-08-03</td>\n",
       "      <td>2021-03-07</td>\n",
       "      <td>2021-03-07</td>\n",
       "      <td>2019-08-03</td>\n",
       "      <td>1.000</td>\n",
       "      <td>1.000</td>\n",
       "      <td>49.990</td>\n",
       "      <td>159.990</td>\n",
       "      <td>[AKTIFSPOR]</td>\n",
       "    </tr>\n",
       "    <tr>\n",
       "      <th>5</th>\n",
       "      <td>e585280e-aae1-11e9-a2fc-000d3a38a36f</td>\n",
       "      <td>Desktop</td>\n",
       "      <td>Offline</td>\n",
       "      <td>2018-11-18</td>\n",
       "      <td>2021-03-13</td>\n",
       "      <td>2018-11-18</td>\n",
       "      <td>2021-03-13</td>\n",
       "      <td>1.000</td>\n",
       "      <td>2.000</td>\n",
       "      <td>150.870</td>\n",
       "      <td>49.990</td>\n",
       "      <td>[KADIN]</td>\n",
       "    </tr>\n",
       "    <tr>\n",
       "      <th>6</th>\n",
       "      <td>c445e4ee-6242-11ea-9d1a-000d3a38a36f</td>\n",
       "      <td>Android App</td>\n",
       "      <td>Android App</td>\n",
       "      <td>2020-03-04</td>\n",
       "      <td>2020-10-18</td>\n",
       "      <td>2020-10-18</td>\n",
       "      <td>2020-03-04</td>\n",
       "      <td>3.000</td>\n",
       "      <td>1.000</td>\n",
       "      <td>59.990</td>\n",
       "      <td>315.940</td>\n",
       "      <td>[AKTIFSPOR]</td>\n",
       "    </tr>\n",
       "    <tr>\n",
       "      <th>7</th>\n",
       "      <td>3f1b4dc8-8a7d-11ea-8ec0-000d3a38a36f</td>\n",
       "      <td>Mobile</td>\n",
       "      <td>Offline</td>\n",
       "      <td>2020-05-15</td>\n",
       "      <td>2020-08-12</td>\n",
       "      <td>2020-05-15</td>\n",
       "      <td>2020-08-12</td>\n",
       "      <td>1.000</td>\n",
       "      <td>1.000</td>\n",
       "      <td>49.990</td>\n",
       "      <td>113.640</td>\n",
       "      <td>[COCUK]</td>\n",
       "    </tr>\n",
       "    <tr>\n",
       "      <th>8</th>\n",
       "      <td>cfbda69e-5b4f-11ea-aca7-000d3a38a36f</td>\n",
       "      <td>Android App</td>\n",
       "      <td>Android App</td>\n",
       "      <td>2020-01-23</td>\n",
       "      <td>2021-03-07</td>\n",
       "      <td>2021-03-07</td>\n",
       "      <td>2020-01-25</td>\n",
       "      <td>3.000</td>\n",
       "      <td>2.000</td>\n",
       "      <td>120.480</td>\n",
       "      <td>934.210</td>\n",
       "      <td>[ERKEK, COCUK, KADIN]</td>\n",
       "    </tr>\n",
       "    <tr>\n",
       "      <th>9</th>\n",
       "      <td>1143f032-440d-11ea-8b43-000d3a38a36f</td>\n",
       "      <td>Mobile</td>\n",
       "      <td>Mobile</td>\n",
       "      <td>2019-07-30</td>\n",
       "      <td>2020-10-04</td>\n",
       "      <td>2020-10-04</td>\n",
       "      <td>2019-07-30</td>\n",
       "      <td>1.000</td>\n",
       "      <td>1.000</td>\n",
       "      <td>69.980</td>\n",
       "      <td>95.980</td>\n",
       "      <td>[KADIN, AKTIFSPOR]</td>\n",
       "    </tr>\n",
       "  </tbody>\n",
       "</table>\n",
       "</div>"
      ],
      "text/plain": [
       "                              master_id order_channel last_order_channel  \\\n",
       "0  cc294636-19f0-11eb-8d74-000d3a38a36f   Android App            Offline   \n",
       "1  f431bd5a-ab7b-11e9-a2fc-000d3a38a36f   Android App             Mobile   \n",
       "2  69b69676-1a40-11ea-941b-000d3a38a36f   Android App        Android App   \n",
       "3  1854e56c-491f-11eb-806e-000d3a38a36f   Android App        Android App   \n",
       "4  d6ea1074-f1f5-11e9-9346-000d3a38a36f       Desktop            Desktop   \n",
       "5  e585280e-aae1-11e9-a2fc-000d3a38a36f       Desktop            Offline   \n",
       "6  c445e4ee-6242-11ea-9d1a-000d3a38a36f   Android App        Android App   \n",
       "7  3f1b4dc8-8a7d-11ea-8ec0-000d3a38a36f        Mobile            Offline   \n",
       "8  cfbda69e-5b4f-11ea-aca7-000d3a38a36f   Android App        Android App   \n",
       "9  1143f032-440d-11ea-8b43-000d3a38a36f        Mobile             Mobile   \n",
       "\n",
       "  first_order_date last_order_date last_order_date_online  \\\n",
       "0       2020-10-30      2021-02-26             2021-02-21   \n",
       "1       2017-02-08      2021-02-16             2021-02-16   \n",
       "2       2019-11-27      2020-11-27             2020-11-27   \n",
       "3       2021-01-06      2021-01-17             2021-01-17   \n",
       "4       2019-08-03      2021-03-07             2021-03-07   \n",
       "5       2018-11-18      2021-03-13             2018-11-18   \n",
       "6       2020-03-04      2020-10-18             2020-10-18   \n",
       "7       2020-05-15      2020-08-12             2020-05-15   \n",
       "8       2020-01-23      2021-03-07             2021-03-07   \n",
       "9       2019-07-30      2020-10-04             2020-10-04   \n",
       "\n",
       "  last_order_date_offline  order_num_total_ever_online  \\\n",
       "0              2021-02-26                        4.000   \n",
       "1              2020-01-10                       19.000   \n",
       "2              2019-12-01                        3.000   \n",
       "3              2021-01-06                        1.000   \n",
       "4              2019-08-03                        1.000   \n",
       "5              2021-03-13                        1.000   \n",
       "6              2020-03-04                        3.000   \n",
       "7              2020-08-12                        1.000   \n",
       "8              2020-01-25                        3.000   \n",
       "9              2019-07-30                        1.000   \n",
       "\n",
       "   order_num_total_ever_offline  customer_value_total_ever_offline  \\\n",
       "0                         1.000                            139.990   \n",
       "1                         2.000                            159.970   \n",
       "2                         2.000                            189.970   \n",
       "3                         1.000                             39.990   \n",
       "4                         1.000                             49.990   \n",
       "5                         2.000                            150.870   \n",
       "6                         1.000                             59.990   \n",
       "7                         1.000                             49.990   \n",
       "8                         2.000                            120.480   \n",
       "9                         1.000                             69.980   \n",
       "\n",
       "   customer_value_total_ever_online       interested_in_categories_12  \n",
       "0                           799.380                           [KADIN]  \n",
       "1                          1853.580  [ERKEK, COCUK, KADIN, AKTIFSPOR]  \n",
       "2                           395.350                    [ERKEK, KADIN]  \n",
       "3                            81.980               [AKTIFCOCUK, COCUK]  \n",
       "4                           159.990                       [AKTIFSPOR]  \n",
       "5                            49.990                           [KADIN]  \n",
       "6                           315.940                       [AKTIFSPOR]  \n",
       "7                           113.640                           [COCUK]  \n",
       "8                           934.210             [ERKEK, COCUK, KADIN]  \n",
       "9                            95.980                [KADIN, AKTIFSPOR]  "
      ]
     },
     "execution_count": 4,
     "metadata": {},
     "output_type": "execute_result"
    }
   ],
   "source": [
    "# 1. The first 10 observations\n",
    "df.head(10)"
   ]
  },
  {
   "cell_type": "code",
   "execution_count": 5,
   "metadata": {},
   "outputs": [
    {
     "data": {
      "text/plain": [
       "Index(['master_id', 'order_channel', 'last_order_channel', 'first_order_date',\n",
       "       'last_order_date', 'last_order_date_online', 'last_order_date_offline',\n",
       "       'order_num_total_ever_online', 'order_num_total_ever_offline',\n",
       "       'customer_value_total_ever_offline', 'customer_value_total_ever_online',\n",
       "       'interested_in_categories_12'],\n",
       "      dtype='object')"
      ]
     },
     "execution_count": 5,
     "metadata": {},
     "output_type": "execute_result"
    }
   ],
   "source": [
    "# 2. Variable names\n",
    "df.columns"
   ]
  },
  {
   "cell_type": "code",
   "execution_count": 6,
   "metadata": {},
   "outputs": [
    {
     "data": {
      "text/plain": [
       "(19945, 12)"
      ]
     },
     "execution_count": 6,
     "metadata": {},
     "output_type": "execute_result"
    }
   ],
   "source": [
    "# 3. Shape\n",
    "df.shape"
   ]
  },
  {
   "cell_type": "code",
   "execution_count": 7,
   "metadata": {},
   "outputs": [
    {
     "data": {
      "text/html": [
       "<div>\n",
       "<style scoped>\n",
       "    .dataframe tbody tr th:only-of-type {\n",
       "        vertical-align: middle;\n",
       "    }\n",
       "\n",
       "    .dataframe tbody tr th {\n",
       "        vertical-align: top;\n",
       "    }\n",
       "\n",
       "    .dataframe thead th {\n",
       "        text-align: right;\n",
       "    }\n",
       "</style>\n",
       "<table border=\"1\" class=\"dataframe\">\n",
       "  <thead>\n",
       "    <tr style=\"text-align: right;\">\n",
       "      <th></th>\n",
       "      <th>count</th>\n",
       "      <th>mean</th>\n",
       "      <th>std</th>\n",
       "      <th>min</th>\n",
       "      <th>25%</th>\n",
       "      <th>50%</th>\n",
       "      <th>75%</th>\n",
       "      <th>max</th>\n",
       "    </tr>\n",
       "  </thead>\n",
       "  <tbody>\n",
       "    <tr>\n",
       "      <th>order_num_total_ever_online</th>\n",
       "      <td>19945.000</td>\n",
       "      <td>3.111</td>\n",
       "      <td>4.226</td>\n",
       "      <td>1.000</td>\n",
       "      <td>1.000</td>\n",
       "      <td>2.000</td>\n",
       "      <td>4.000</td>\n",
       "      <td>200.000</td>\n",
       "    </tr>\n",
       "    <tr>\n",
       "      <th>order_num_total_ever_offline</th>\n",
       "      <td>19945.000</td>\n",
       "      <td>1.914</td>\n",
       "      <td>2.063</td>\n",
       "      <td>1.000</td>\n",
       "      <td>1.000</td>\n",
       "      <td>1.000</td>\n",
       "      <td>2.000</td>\n",
       "      <td>109.000</td>\n",
       "    </tr>\n",
       "    <tr>\n",
       "      <th>customer_value_total_ever_offline</th>\n",
       "      <td>19945.000</td>\n",
       "      <td>253.923</td>\n",
       "      <td>301.533</td>\n",
       "      <td>10.000</td>\n",
       "      <td>99.990</td>\n",
       "      <td>179.980</td>\n",
       "      <td>319.970</td>\n",
       "      <td>18119.140</td>\n",
       "    </tr>\n",
       "    <tr>\n",
       "      <th>customer_value_total_ever_online</th>\n",
       "      <td>19945.000</td>\n",
       "      <td>497.322</td>\n",
       "      <td>832.602</td>\n",
       "      <td>12.990</td>\n",
       "      <td>149.980</td>\n",
       "      <td>286.460</td>\n",
       "      <td>578.440</td>\n",
       "      <td>45220.130</td>\n",
       "    </tr>\n",
       "  </tbody>\n",
       "</table>\n",
       "</div>"
      ],
      "text/plain": [
       "                                      count    mean     std    min     25%  \\\n",
       "order_num_total_ever_online       19945.000   3.111   4.226  1.000   1.000   \n",
       "order_num_total_ever_offline      19945.000   1.914   2.063  1.000   1.000   \n",
       "customer_value_total_ever_offline 19945.000 253.923 301.533 10.000  99.990   \n",
       "customer_value_total_ever_online  19945.000 497.322 832.602 12.990 149.980   \n",
       "\n",
       "                                      50%     75%       max  \n",
       "order_num_total_ever_online         2.000   4.000   200.000  \n",
       "order_num_total_ever_offline        1.000   2.000   109.000  \n",
       "customer_value_total_ever_offline 179.980 319.970 18119.140  \n",
       "customer_value_total_ever_online  286.460 578.440 45220.130  "
      ]
     },
     "execution_count": 7,
     "metadata": {},
     "output_type": "execute_result"
    }
   ],
   "source": [
    "# 4. Descriptive statistics\n",
    "df.describe().T"
   ]
  },
  {
   "cell_type": "code",
   "execution_count": 8,
   "metadata": {},
   "outputs": [
    {
     "data": {
      "text/plain": [
       "master_id                            0\n",
       "order_channel                        0\n",
       "last_order_channel                   0\n",
       "first_order_date                     0\n",
       "last_order_date                      0\n",
       "last_order_date_online               0\n",
       "last_order_date_offline              0\n",
       "order_num_total_ever_online          0\n",
       "order_num_total_ever_offline         0\n",
       "customer_value_total_ever_offline    0\n",
       "customer_value_total_ever_online     0\n",
       "interested_in_categories_12          0\n",
       "dtype: int64"
      ]
     },
     "execution_count": 8,
     "metadata": {},
     "output_type": "execute_result"
    }
   ],
   "source": [
    "# 5. Null value\n",
    "df.isnull().sum()"
   ]
  },
  {
   "cell_type": "code",
   "execution_count": 9,
   "metadata": {},
   "outputs": [
    {
     "name": "stdout",
     "output_type": "stream",
     "text": [
      "<class 'pandas.core.frame.DataFrame'>\n",
      "RangeIndex: 19945 entries, 0 to 19944\n",
      "Data columns (total 12 columns):\n",
      " #   Column                             Non-Null Count  Dtype  \n",
      "---  ------                             --------------  -----  \n",
      " 0   master_id                          19945 non-null  object \n",
      " 1   order_channel                      19945 non-null  object \n",
      " 2   last_order_channel                 19945 non-null  object \n",
      " 3   first_order_date                   19945 non-null  object \n",
      " 4   last_order_date                    19945 non-null  object \n",
      " 5   last_order_date_online             19945 non-null  object \n",
      " 6   last_order_date_offline            19945 non-null  object \n",
      " 7   order_num_total_ever_online        19945 non-null  float64\n",
      " 8   order_num_total_ever_offline       19945 non-null  float64\n",
      " 9   customer_value_total_ever_offline  19945 non-null  float64\n",
      " 10  customer_value_total_ever_online   19945 non-null  float64\n",
      " 11  interested_in_categories_12        19945 non-null  object \n",
      "dtypes: float64(4), object(8)\n",
      "memory usage: 1.8+ MB\n"
     ]
    }
   ],
   "source": [
    "# 6. Variable types\n",
    "df.info()"
   ]
  },
  {
   "attachments": {},
   "cell_type": "markdown",
   "metadata": {},
   "source": [
    "Step 3: Omnichannel means that customers shop from both online and offline platforms. Create new variables for each customer's total purchases and spending."
   ]
  },
  {
   "cell_type": "code",
   "execution_count": 10,
   "metadata": {},
   "outputs": [
    {
     "data": {
      "text/plain": [
       "0    5.000\n",
       "1   21.000\n",
       "2    5.000\n",
       "3    2.000\n",
       "4    2.000\n",
       "Name: total_order_omnichannel, dtype: float64"
      ]
     },
     "execution_count": 10,
     "metadata": {},
     "output_type": "execute_result"
    }
   ],
   "source": [
    "# Total purchase\n",
    "df['total_order_omnichannel'] = df['order_num_total_ever_online'] + df['order_num_total_ever_offline']\n",
    "df['total_order_omnichannel'].head() "
   ]
  },
  {
   "cell_type": "code",
   "execution_count": 11,
   "metadata": {},
   "outputs": [
    {
     "data": {
      "text/plain": [
       "0    939.370\n",
       "1   2013.550\n",
       "2    585.320\n",
       "3    121.970\n",
       "4    209.980\n",
       "Name: total_price_omnichannel, dtype: float64"
      ]
     },
     "execution_count": 11,
     "metadata": {},
     "output_type": "execute_result"
    }
   ],
   "source": [
    "# Total spend\n",
    "df['total_price_omnichannel'] = df['customer_value_total_ever_online'] + df['customer_value_total_ever_offline']\n",
    "df['total_price_omnichannel'].head()"
   ]
  },
  {
   "attachments": {},
   "cell_type": "markdown",
   "metadata": {},
   "source": [
    "Step 4: Examine the variable types. Change the type of variables that express date to date."
   ]
  },
  {
   "cell_type": "code",
   "execution_count": 12,
   "metadata": {},
   "outputs": [
    {
     "data": {
      "text/plain": [
       "Index(['first_order_date', 'last_order_date', 'last_order_date_online',\n",
       "       'last_order_date_offline'],\n",
       "      dtype='object')"
      ]
     },
     "execution_count": 12,
     "metadata": {},
     "output_type": "execute_result"
    }
   ],
   "source": [
    "date_cols = df.columns[df.columns.str.contains('date')]\n",
    "date_cols"
   ]
  },
  {
   "cell_type": "code",
   "execution_count": 13,
   "metadata": {},
   "outputs": [],
   "source": [
    "df[date_cols] = df[date_cols].apply(pd.to_datetime)"
   ]
  },
  {
   "cell_type": "code",
   "execution_count": 14,
   "metadata": {},
   "outputs": [
    {
     "name": "stdout",
     "output_type": "stream",
     "text": [
      "<class 'pandas.core.frame.DataFrame'>\n",
      "RangeIndex: 19945 entries, 0 to 19944\n",
      "Data columns (total 4 columns):\n",
      " #   Column                   Non-Null Count  Dtype         \n",
      "---  ------                   --------------  -----         \n",
      " 0   first_order_date         19945 non-null  datetime64[ns]\n",
      " 1   last_order_date          19945 non-null  datetime64[ns]\n",
      " 2   last_order_date_online   19945 non-null  datetime64[ns]\n",
      " 3   last_order_date_offline  19945 non-null  datetime64[ns]\n",
      "dtypes: datetime64[ns](4)\n",
      "memory usage: 623.4 KB\n"
     ]
    }
   ],
   "source": [
    "df[['first_order_date', 'last_order_date', 'last_order_date_online', 'last_order_date_offline']].info()"
   ]
  },
  {
   "attachments": {},
   "cell_type": "markdown",
   "metadata": {},
   "source": [
    "Step 5: See the distribution of the number of customers, total number of products purchased, and total spending across shopping channels."
   ]
  },
  {
   "cell_type": "code",
   "execution_count": 15,
   "metadata": {},
   "outputs": [
    {
     "data": {
      "text/html": [
       "<div>\n",
       "<style scoped>\n",
       "    .dataframe tbody tr th:only-of-type {\n",
       "        vertical-align: middle;\n",
       "    }\n",
       "\n",
       "    .dataframe tbody tr th {\n",
       "        vertical-align: top;\n",
       "    }\n",
       "\n",
       "    .dataframe thead th {\n",
       "        text-align: right;\n",
       "    }\n",
       "</style>\n",
       "<table border=\"1\" class=\"dataframe\">\n",
       "  <thead>\n",
       "    <tr style=\"text-align: right;\">\n",
       "      <th></th>\n",
       "      <th>master_id</th>\n",
       "      <th>total_order_omnichannel</th>\n",
       "      <th>total_price_omnichannel</th>\n",
       "    </tr>\n",
       "    <tr>\n",
       "      <th>order_channel</th>\n",
       "      <th></th>\n",
       "      <th></th>\n",
       "      <th></th>\n",
       "    </tr>\n",
       "  </thead>\n",
       "  <tbody>\n",
       "    <tr>\n",
       "      <th>Android App</th>\n",
       "      <td>9495</td>\n",
       "      <td>52269.000</td>\n",
       "      <td>7819062.760</td>\n",
       "    </tr>\n",
       "    <tr>\n",
       "      <th>Desktop</th>\n",
       "      <td>2735</td>\n",
       "      <td>10920.000</td>\n",
       "      <td>1610321.460</td>\n",
       "    </tr>\n",
       "    <tr>\n",
       "      <th>Ios App</th>\n",
       "      <td>2833</td>\n",
       "      <td>15351.000</td>\n",
       "      <td>2525999.930</td>\n",
       "    </tr>\n",
       "    <tr>\n",
       "      <th>Mobile</th>\n",
       "      <td>4882</td>\n",
       "      <td>21679.000</td>\n",
       "      <td>3028183.160</td>\n",
       "    </tr>\n",
       "  </tbody>\n",
       "</table>\n",
       "</div>"
      ],
      "text/plain": [
       "               master_id  total_order_omnichannel  total_price_omnichannel\n",
       "order_channel                                                             \n",
       "Android App         9495                52269.000              7819062.760\n",
       "Desktop             2735                10920.000              1610321.460\n",
       "Ios App             2833                15351.000              2525999.930\n",
       "Mobile              4882                21679.000              3028183.160"
      ]
     },
     "execution_count": 15,
     "metadata": {},
     "output_type": "execute_result"
    }
   ],
   "source": [
    "df.groupby('order_channel').agg({'master_id': 'count', \n",
    "                                 'total_order_omnichannel': 'sum',\n",
    "                                 'total_price_omnichannel': 'sum'})"
   ]
  },
  {
   "attachments": {},
   "cell_type": "markdown",
   "metadata": {},
   "source": [
    "Step 6: Rank the top 10 customers with the highest revenue."
   ]
  },
  {
   "cell_type": "code",
   "execution_count": 16,
   "metadata": {},
   "outputs": [
    {
     "data": {
      "text/html": [
       "<div>\n",
       "<style scoped>\n",
       "    .dataframe tbody tr th:only-of-type {\n",
       "        vertical-align: middle;\n",
       "    }\n",
       "\n",
       "    .dataframe tbody tr th {\n",
       "        vertical-align: top;\n",
       "    }\n",
       "\n",
       "    .dataframe thead th {\n",
       "        text-align: right;\n",
       "    }\n",
       "</style>\n",
       "<table border=\"1\" class=\"dataframe\">\n",
       "  <thead>\n",
       "    <tr style=\"text-align: right;\">\n",
       "      <th></th>\n",
       "      <th>total_price_omnichannel</th>\n",
       "    </tr>\n",
       "    <tr>\n",
       "      <th>master_id</th>\n",
       "      <th></th>\n",
       "    </tr>\n",
       "  </thead>\n",
       "  <tbody>\n",
       "    <tr>\n",
       "      <th>5d1c466a-9cfd-11e9-9897-000d3a38a36f</th>\n",
       "      <td>45905.100</td>\n",
       "    </tr>\n",
       "    <tr>\n",
       "      <th>d5ef8058-a5c6-11e9-a2fc-000d3a38a36f</th>\n",
       "      <td>36818.290</td>\n",
       "    </tr>\n",
       "    <tr>\n",
       "      <th>73fd19aa-9e37-11e9-9897-000d3a38a36f</th>\n",
       "      <td>33918.100</td>\n",
       "    </tr>\n",
       "    <tr>\n",
       "      <th>7137a5c0-7aad-11ea-8f20-000d3a38a36f</th>\n",
       "      <td>31227.410</td>\n",
       "    </tr>\n",
       "    <tr>\n",
       "      <th>47a642fe-975b-11eb-8c2a-000d3a38a36f</th>\n",
       "      <td>20706.340</td>\n",
       "    </tr>\n",
       "    <tr>\n",
       "      <th>a4d534a2-5b1b-11eb-8dbd-000d3a38a36f</th>\n",
       "      <td>18443.570</td>\n",
       "    </tr>\n",
       "    <tr>\n",
       "      <th>d696c654-2633-11ea-8e1c-000d3a38a36f</th>\n",
       "      <td>16918.570</td>\n",
       "    </tr>\n",
       "    <tr>\n",
       "      <th>fef57ffa-aae6-11e9-a2fc-000d3a38a36f</th>\n",
       "      <td>12726.100</td>\n",
       "    </tr>\n",
       "    <tr>\n",
       "      <th>cba59206-9dd1-11e9-9897-000d3a38a36f</th>\n",
       "      <td>12282.240</td>\n",
       "    </tr>\n",
       "    <tr>\n",
       "      <th>fc0ce7a4-9d87-11e9-9897-000d3a38a36f</th>\n",
       "      <td>12103.150</td>\n",
       "    </tr>\n",
       "  </tbody>\n",
       "</table>\n",
       "</div>"
      ],
      "text/plain": [
       "                                      total_price_omnichannel\n",
       "master_id                                                    \n",
       "5d1c466a-9cfd-11e9-9897-000d3a38a36f                45905.100\n",
       "d5ef8058-a5c6-11e9-a2fc-000d3a38a36f                36818.290\n",
       "73fd19aa-9e37-11e9-9897-000d3a38a36f                33918.100\n",
       "7137a5c0-7aad-11ea-8f20-000d3a38a36f                31227.410\n",
       "47a642fe-975b-11eb-8c2a-000d3a38a36f                20706.340\n",
       "a4d534a2-5b1b-11eb-8dbd-000d3a38a36f                18443.570\n",
       "d696c654-2633-11ea-8e1c-000d3a38a36f                16918.570\n",
       "fef57ffa-aae6-11e9-a2fc-000d3a38a36f                12726.100\n",
       "cba59206-9dd1-11e9-9897-000d3a38a36f                12282.240\n",
       "fc0ce7a4-9d87-11e9-9897-000d3a38a36f                12103.150"
      ]
     },
     "execution_count": 16,
     "metadata": {},
     "output_type": "execute_result"
    }
   ],
   "source": [
    "df.groupby('master_id').agg({'total_price_omnichannel': 'sum'}).sort_values('total_price_omnichannel', ascending=False)[:10]"
   ]
  },
  {
   "attachments": {},
   "cell_type": "markdown",
   "metadata": {},
   "source": [
    "Step 7: List the top 10 customers with the most orders."
   ]
  },
  {
   "cell_type": "code",
   "execution_count": 17,
   "metadata": {},
   "outputs": [
    {
     "data": {
      "text/html": [
       "<div>\n",
       "<style scoped>\n",
       "    .dataframe tbody tr th:only-of-type {\n",
       "        vertical-align: middle;\n",
       "    }\n",
       "\n",
       "    .dataframe tbody tr th {\n",
       "        vertical-align: top;\n",
       "    }\n",
       "\n",
       "    .dataframe thead th {\n",
       "        text-align: right;\n",
       "    }\n",
       "</style>\n",
       "<table border=\"1\" class=\"dataframe\">\n",
       "  <thead>\n",
       "    <tr style=\"text-align: right;\">\n",
       "      <th></th>\n",
       "      <th>total_order_omnichannel</th>\n",
       "    </tr>\n",
       "    <tr>\n",
       "      <th>master_id</th>\n",
       "      <th></th>\n",
       "    </tr>\n",
       "  </thead>\n",
       "  <tbody>\n",
       "    <tr>\n",
       "      <th>5d1c466a-9cfd-11e9-9897-000d3a38a36f</th>\n",
       "      <td>202.000</td>\n",
       "    </tr>\n",
       "    <tr>\n",
       "      <th>cba59206-9dd1-11e9-9897-000d3a38a36f</th>\n",
       "      <td>131.000</td>\n",
       "    </tr>\n",
       "    <tr>\n",
       "      <th>a57f4302-b1a8-11e9-89fa-000d3a38a36f</th>\n",
       "      <td>111.000</td>\n",
       "    </tr>\n",
       "    <tr>\n",
       "      <th>fdbe8304-a7ab-11e9-a2fc-000d3a38a36f</th>\n",
       "      <td>88.000</td>\n",
       "    </tr>\n",
       "    <tr>\n",
       "      <th>329968c6-a0e2-11e9-a2fc-000d3a38a36f</th>\n",
       "      <td>83.000</td>\n",
       "    </tr>\n",
       "    <tr>\n",
       "      <th>73fd19aa-9e37-11e9-9897-000d3a38a36f</th>\n",
       "      <td>82.000</td>\n",
       "    </tr>\n",
       "    <tr>\n",
       "      <th>44d032ee-a0d4-11e9-a2fc-000d3a38a36f</th>\n",
       "      <td>77.000</td>\n",
       "    </tr>\n",
       "    <tr>\n",
       "      <th>b27e241a-a901-11e9-a2fc-000d3a38a36f</th>\n",
       "      <td>75.000</td>\n",
       "    </tr>\n",
       "    <tr>\n",
       "      <th>d696c654-2633-11ea-8e1c-000d3a38a36f</th>\n",
       "      <td>70.000</td>\n",
       "    </tr>\n",
       "    <tr>\n",
       "      <th>a4d534a2-5b1b-11eb-8dbd-000d3a38a36f</th>\n",
       "      <td>70.000</td>\n",
       "    </tr>\n",
       "  </tbody>\n",
       "</table>\n",
       "</div>"
      ],
      "text/plain": [
       "                                      total_order_omnichannel\n",
       "master_id                                                    \n",
       "5d1c466a-9cfd-11e9-9897-000d3a38a36f                  202.000\n",
       "cba59206-9dd1-11e9-9897-000d3a38a36f                  131.000\n",
       "a57f4302-b1a8-11e9-89fa-000d3a38a36f                  111.000\n",
       "fdbe8304-a7ab-11e9-a2fc-000d3a38a36f                   88.000\n",
       "329968c6-a0e2-11e9-a2fc-000d3a38a36f                   83.000\n",
       "73fd19aa-9e37-11e9-9897-000d3a38a36f                   82.000\n",
       "44d032ee-a0d4-11e9-a2fc-000d3a38a36f                   77.000\n",
       "b27e241a-a901-11e9-a2fc-000d3a38a36f                   75.000\n",
       "d696c654-2633-11ea-8e1c-000d3a38a36f                   70.000\n",
       "a4d534a2-5b1b-11eb-8dbd-000d3a38a36f                   70.000"
      ]
     },
     "execution_count": 17,
     "metadata": {},
     "output_type": "execute_result"
    }
   ],
   "source": [
    "df.groupby('master_id').agg({'total_order_omnichannel': 'sum'}).sort_values('total_order_omnichannel', ascending=False)[:10]"
   ]
  },
  {
   "attachments": {},
   "cell_type": "markdown",
   "metadata": {},
   "source": [
    "Step 8: Functionalize the data preparation process."
   ]
  },
  {
   "cell_type": "code",
   "execution_count": 18,
   "metadata": {},
   "outputs": [],
   "source": [
    "df = df_.copy()"
   ]
  },
  {
   "cell_type": "code",
   "execution_count": 19,
   "metadata": {},
   "outputs": [],
   "source": [
    "def data_prep(dataframe):\n",
    "    dataframe['total_order_omnichannel'] = dataframe['order_num_total_ever_online'] + dataframe['order_num_total_ever_offline']\n",
    "    dataframe['total_price_omnichannel'] = dataframe['customer_value_total_ever_online'] + dataframe['customer_value_total_ever_offline']\n",
    "    date_cols = dataframe.columns[dataframe.columns.str.contains('date')]\n",
    "    dataframe[date_cols] = dataframe[date_cols].apply(pd.to_datetime)\n",
    "    return dataframe\n",
    "\n",
    "\n",
    "df = data_prep(df)"
   ]
  },
  {
   "cell_type": "code",
   "execution_count": 20,
   "metadata": {},
   "outputs": [
    {
     "name": "stdout",
     "output_type": "stream",
     "text": [
      "<class 'pandas.core.frame.DataFrame'>\n",
      "RangeIndex: 19945 entries, 0 to 19944\n",
      "Data columns (total 14 columns):\n",
      " #   Column                             Non-Null Count  Dtype         \n",
      "---  ------                             --------------  -----         \n",
      " 0   master_id                          19945 non-null  object        \n",
      " 1   order_channel                      19945 non-null  object        \n",
      " 2   last_order_channel                 19945 non-null  object        \n",
      " 3   first_order_date                   19945 non-null  datetime64[ns]\n",
      " 4   last_order_date                    19945 non-null  datetime64[ns]\n",
      " 5   last_order_date_online             19945 non-null  datetime64[ns]\n",
      " 6   last_order_date_offline            19945 non-null  datetime64[ns]\n",
      " 7   order_num_total_ever_online        19945 non-null  float64       \n",
      " 8   order_num_total_ever_offline       19945 non-null  float64       \n",
      " 9   customer_value_total_ever_offline  19945 non-null  float64       \n",
      " 10  customer_value_total_ever_online   19945 non-null  float64       \n",
      " 11  interested_in_categories_12        19945 non-null  object        \n",
      " 12  total_order_omnichannel            19945 non-null  float64       \n",
      " 13  total_price_omnichannel            19945 non-null  float64       \n",
      "dtypes: datetime64[ns](4), float64(6), object(4)\n",
      "memory usage: 2.1+ MB\n"
     ]
    }
   ],
   "source": [
    "df.info()"
   ]
  },
  {
   "attachments": {},
   "cell_type": "markdown",
   "metadata": {},
   "source": [
    "# Task 2: \n",
    "Calculating RFM Metrics."
   ]
  },
  {
   "attachments": {},
   "cell_type": "markdown",
   "metadata": {},
   "source": [
    "Step 1: Make the definitions of Recency, Frequency and Monetary. \n",
    "Note: You can select the analysis date 2 days after the maximum date to calculate the recency value."
   ]
  },
  {
   "cell_type": "code",
   "execution_count": 21,
   "metadata": {},
   "outputs": [
    {
     "data": {
      "text/plain": [
       "Timestamp('2021-05-30 00:00:00')"
      ]
     },
     "execution_count": 21,
     "metadata": {},
     "output_type": "execute_result"
    }
   ],
   "source": [
    "# Max. last order date in the dataset\n",
    "df['last_order_date'].max()"
   ]
  },
  {
   "cell_type": "code",
   "execution_count": 22,
   "metadata": {},
   "outputs": [
    {
     "data": {
      "text/plain": [
       "datetime.datetime(2021, 6, 1, 0, 0)"
      ]
     },
     "execution_count": 22,
     "metadata": {},
     "output_type": "execute_result"
    }
   ],
   "source": [
    "# Analysis Date: 2 days after maximum last order date (2021, 6, 1) \n",
    "analysis_date = dt.datetime(2021, 6, 1)\n",
    "analysis_date"
   ]
  },
  {
   "attachments": {},
   "cell_type": "markdown",
   "metadata": {},
   "source": [
    "Step 2: Calculate the Recency, Frequency and Monetary metrics for the customer.\n",
    "Step 3: Assign your calculated metrics to a variable named rfm. "
   ]
  },
  {
   "cell_type": "code",
   "execution_count": 23,
   "metadata": {},
   "outputs": [
    {
     "data": {
      "text/html": [
       "<div>\n",
       "<style scoped>\n",
       "    .dataframe tbody tr th:only-of-type {\n",
       "        vertical-align: middle;\n",
       "    }\n",
       "\n",
       "    .dataframe tbody tr th {\n",
       "        vertical-align: top;\n",
       "    }\n",
       "\n",
       "    .dataframe thead th {\n",
       "        text-align: right;\n",
       "    }\n",
       "</style>\n",
       "<table border=\"1\" class=\"dataframe\">\n",
       "  <thead>\n",
       "    <tr style=\"text-align: right;\">\n",
       "      <th></th>\n",
       "      <th>master_id</th>\n",
       "      <th>last_order_date</th>\n",
       "      <th>total_order_omnichannel</th>\n",
       "      <th>total_price_omnichannel</th>\n",
       "    </tr>\n",
       "  </thead>\n",
       "  <tbody>\n",
       "    <tr>\n",
       "      <th>0</th>\n",
       "      <td>cc294636-19f0-11eb-8d74-000d3a38a36f</td>\n",
       "      <td>95</td>\n",
       "      <td>5.000</td>\n",
       "      <td>939.370</td>\n",
       "    </tr>\n",
       "    <tr>\n",
       "      <th>1</th>\n",
       "      <td>f431bd5a-ab7b-11e9-a2fc-000d3a38a36f</td>\n",
       "      <td>105</td>\n",
       "      <td>21.000</td>\n",
       "      <td>2013.550</td>\n",
       "    </tr>\n",
       "    <tr>\n",
       "      <th>2</th>\n",
       "      <td>69b69676-1a40-11ea-941b-000d3a38a36f</td>\n",
       "      <td>186</td>\n",
       "      <td>5.000</td>\n",
       "      <td>585.320</td>\n",
       "    </tr>\n",
       "    <tr>\n",
       "      <th>3</th>\n",
       "      <td>1854e56c-491f-11eb-806e-000d3a38a36f</td>\n",
       "      <td>135</td>\n",
       "      <td>2.000</td>\n",
       "      <td>121.970</td>\n",
       "    </tr>\n",
       "    <tr>\n",
       "      <th>4</th>\n",
       "      <td>d6ea1074-f1f5-11e9-9346-000d3a38a36f</td>\n",
       "      <td>86</td>\n",
       "      <td>2.000</td>\n",
       "      <td>209.980</td>\n",
       "    </tr>\n",
       "  </tbody>\n",
       "</table>\n",
       "</div>"
      ],
      "text/plain": [
       "                              master_id  last_order_date  \\\n",
       "0  cc294636-19f0-11eb-8d74-000d3a38a36f               95   \n",
       "1  f431bd5a-ab7b-11e9-a2fc-000d3a38a36f              105   \n",
       "2  69b69676-1a40-11ea-941b-000d3a38a36f              186   \n",
       "3  1854e56c-491f-11eb-806e-000d3a38a36f              135   \n",
       "4  d6ea1074-f1f5-11e9-9346-000d3a38a36f               86   \n",
       "\n",
       "   total_order_omnichannel  total_price_omnichannel  \n",
       "0                    5.000                  939.370  \n",
       "1                   21.000                 2013.550  \n",
       "2                    5.000                  585.320  \n",
       "3                    2.000                  121.970  \n",
       "4                    2.000                  209.980  "
      ]
     },
     "execution_count": 23,
     "metadata": {},
     "output_type": "execute_result"
    }
   ],
   "source": [
    "# master_id: Customer ID\n",
    "# Recency: analysis_date - last_order_date.max()\n",
    "# Frequency: 'total_order_omnichannel'\n",
    "# Monetary: 'total_price_omnichannel'\n",
    "\n",
    "rfm = df.agg({'master_id': lambda id: id, \n",
    "              'last_order_date': lambda last_order: (analysis_date - last_order).days, \n",
    "              'total_order_omnichannel': lambda total_order: total_order, \n",
    "              'total_price_omnichannel': lambda total_price: total_price})\n",
    "\n",
    "rfm.head()"
   ]
  },
  {
   "attachments": {},
   "cell_type": "markdown",
   "metadata": {},
   "source": [
    "Step 4: Change the names of the metrics you created to recency, frequency and monetary (A new rfm dataframe with 'customer_id', 'recency', 'frequnecy' and 'monetary' values)"
   ]
  },
  {
   "cell_type": "code",
   "execution_count": 24,
   "metadata": {},
   "outputs": [
    {
     "data": {
      "text/html": [
       "<div>\n",
       "<style scoped>\n",
       "    .dataframe tbody tr th:only-of-type {\n",
       "        vertical-align: middle;\n",
       "    }\n",
       "\n",
       "    .dataframe tbody tr th {\n",
       "        vertical-align: top;\n",
       "    }\n",
       "\n",
       "    .dataframe thead th {\n",
       "        text-align: right;\n",
       "    }\n",
       "</style>\n",
       "<table border=\"1\" class=\"dataframe\">\n",
       "  <thead>\n",
       "    <tr style=\"text-align: right;\">\n",
       "      <th></th>\n",
       "      <th>customer_id</th>\n",
       "      <th>recency</th>\n",
       "      <th>frequency</th>\n",
       "      <th>monetary</th>\n",
       "    </tr>\n",
       "  </thead>\n",
       "  <tbody>\n",
       "    <tr>\n",
       "      <th>0</th>\n",
       "      <td>cc294636-19f0-11eb-8d74-000d3a38a36f</td>\n",
       "      <td>95</td>\n",
       "      <td>5.000</td>\n",
       "      <td>939.370</td>\n",
       "    </tr>\n",
       "    <tr>\n",
       "      <th>1</th>\n",
       "      <td>f431bd5a-ab7b-11e9-a2fc-000d3a38a36f</td>\n",
       "      <td>105</td>\n",
       "      <td>21.000</td>\n",
       "      <td>2013.550</td>\n",
       "    </tr>\n",
       "    <tr>\n",
       "      <th>2</th>\n",
       "      <td>69b69676-1a40-11ea-941b-000d3a38a36f</td>\n",
       "      <td>186</td>\n",
       "      <td>5.000</td>\n",
       "      <td>585.320</td>\n",
       "    </tr>\n",
       "    <tr>\n",
       "      <th>3</th>\n",
       "      <td>1854e56c-491f-11eb-806e-000d3a38a36f</td>\n",
       "      <td>135</td>\n",
       "      <td>2.000</td>\n",
       "      <td>121.970</td>\n",
       "    </tr>\n",
       "    <tr>\n",
       "      <th>4</th>\n",
       "      <td>d6ea1074-f1f5-11e9-9346-000d3a38a36f</td>\n",
       "      <td>86</td>\n",
       "      <td>2.000</td>\n",
       "      <td>209.980</td>\n",
       "    </tr>\n",
       "  </tbody>\n",
       "</table>\n",
       "</div>"
      ],
      "text/plain": [
       "                            customer_id  recency  frequency  monetary\n",
       "0  cc294636-19f0-11eb-8d74-000d3a38a36f       95      5.000   939.370\n",
       "1  f431bd5a-ab7b-11e9-a2fc-000d3a38a36f      105     21.000  2013.550\n",
       "2  69b69676-1a40-11ea-941b-000d3a38a36f      186      5.000   585.320\n",
       "3  1854e56c-491f-11eb-806e-000d3a38a36f      135      2.000   121.970\n",
       "4  d6ea1074-f1f5-11e9-9346-000d3a38a36f       86      2.000   209.980"
      ]
     },
     "execution_count": 24,
     "metadata": {},
     "output_type": "execute_result"
    }
   ],
   "source": [
    "# Rename columns\n",
    "rfm.columns = ['customer_id', 'recency', 'frequency', 'monetary']\n",
    "rfm.head()"
   ]
  },
  {
   "attachments": {},
   "cell_type": "markdown",
   "metadata": {},
   "source": [
    "# Task 3: \n",
    "Calculating RF and RFM Scores."
   ]
  },
  {
   "attachments": {},
   "cell_type": "markdown",
   "metadata": {},
   "source": [
    "Step 1: Convert the Recency, Frequency and Monetary metrics to scores between 1-5 with the help of qcut(). \n",
    "\n",
    "Step 2: Save these scores as 'recency_score', 'frequency_score' and 'monetary_score'."
   ]
  },
  {
   "cell_type": "code",
   "execution_count": 25,
   "metadata": {},
   "outputs": [
    {
     "data": {
      "text/html": [
       "<div>\n",
       "<style scoped>\n",
       "    .dataframe tbody tr th:only-of-type {\n",
       "        vertical-align: middle;\n",
       "    }\n",
       "\n",
       "    .dataframe tbody tr th {\n",
       "        vertical-align: top;\n",
       "    }\n",
       "\n",
       "    .dataframe thead th {\n",
       "        text-align: right;\n",
       "    }\n",
       "</style>\n",
       "<table border=\"1\" class=\"dataframe\">\n",
       "  <thead>\n",
       "    <tr style=\"text-align: right;\">\n",
       "      <th></th>\n",
       "      <th>customer_id</th>\n",
       "      <th>recency</th>\n",
       "      <th>frequency</th>\n",
       "      <th>monetary</th>\n",
       "      <th>recency_score</th>\n",
       "      <th>frequency_score</th>\n",
       "      <th>monetary_score</th>\n",
       "    </tr>\n",
       "  </thead>\n",
       "  <tbody>\n",
       "    <tr>\n",
       "      <th>0</th>\n",
       "      <td>cc294636-19f0-11eb-8d74-000d3a38a36f</td>\n",
       "      <td>95</td>\n",
       "      <td>5.000</td>\n",
       "      <td>939.370</td>\n",
       "      <td>3</td>\n",
       "      <td>4</td>\n",
       "      <td>4</td>\n",
       "    </tr>\n",
       "    <tr>\n",
       "      <th>1</th>\n",
       "      <td>f431bd5a-ab7b-11e9-a2fc-000d3a38a36f</td>\n",
       "      <td>105</td>\n",
       "      <td>21.000</td>\n",
       "      <td>2013.550</td>\n",
       "      <td>3</td>\n",
       "      <td>5</td>\n",
       "      <td>5</td>\n",
       "    </tr>\n",
       "    <tr>\n",
       "      <th>2</th>\n",
       "      <td>69b69676-1a40-11ea-941b-000d3a38a36f</td>\n",
       "      <td>186</td>\n",
       "      <td>5.000</td>\n",
       "      <td>585.320</td>\n",
       "      <td>2</td>\n",
       "      <td>4</td>\n",
       "      <td>3</td>\n",
       "    </tr>\n",
       "    <tr>\n",
       "      <th>3</th>\n",
       "      <td>1854e56c-491f-11eb-806e-000d3a38a36f</td>\n",
       "      <td>135</td>\n",
       "      <td>2.000</td>\n",
       "      <td>121.970</td>\n",
       "      <td>3</td>\n",
       "      <td>1</td>\n",
       "      <td>1</td>\n",
       "    </tr>\n",
       "    <tr>\n",
       "      <th>4</th>\n",
       "      <td>d6ea1074-f1f5-11e9-9346-000d3a38a36f</td>\n",
       "      <td>86</td>\n",
       "      <td>2.000</td>\n",
       "      <td>209.980</td>\n",
       "      <td>3</td>\n",
       "      <td>1</td>\n",
       "      <td>1</td>\n",
       "    </tr>\n",
       "  </tbody>\n",
       "</table>\n",
       "</div>"
      ],
      "text/plain": [
       "                            customer_id  recency  frequency  monetary  \\\n",
       "0  cc294636-19f0-11eb-8d74-000d3a38a36f       95      5.000   939.370   \n",
       "1  f431bd5a-ab7b-11e9-a2fc-000d3a38a36f      105     21.000  2013.550   \n",
       "2  69b69676-1a40-11ea-941b-000d3a38a36f      186      5.000   585.320   \n",
       "3  1854e56c-491f-11eb-806e-000d3a38a36f      135      2.000   121.970   \n",
       "4  d6ea1074-f1f5-11e9-9346-000d3a38a36f       86      2.000   209.980   \n",
       "\n",
       "  recency_score frequency_score monetary_score  \n",
       "0             3               4              4  \n",
       "1             3               5              5  \n",
       "2             2               4              3  \n",
       "3             3               1              1  \n",
       "4             3               1              1  "
      ]
     },
     "execution_count": 25,
     "metadata": {},
     "output_type": "execute_result"
    }
   ],
   "source": [
    "# Step 1 & Step 2:\n",
    "# Recency Score\n",
    "rfm['recency_score'] = pd.qcut(rfm['recency'], 5, labels=[5, 4, 3, 2, 1])\n",
    "\n",
    "# Frequency Score\n",
    "rfm['frequency_score'] = pd.qcut(rfm['frequency'].rank(method='first'), 5, labels=[1, 2, 3, 4, 5])\n",
    "\n",
    "# Monetary Score\n",
    "rfm['monetary_score'] = pd.qcut(rfm['monetary'], 5, labels=[1, 2, 3, 4, 5])\n",
    "\n",
    "rfm.head()"
   ]
  },
  {
   "attachments": {},
   "cell_type": "markdown",
   "metadata": {},
   "source": [
    "Step 3: Express 'recency_score' and 'frequency_score' as a single variable and save it as RF_SCORE."
   ]
  },
  {
   "cell_type": "code",
   "execution_count": 26,
   "metadata": {},
   "outputs": [
    {
     "data": {
      "text/html": [
       "<div>\n",
       "<style scoped>\n",
       "    .dataframe tbody tr th:only-of-type {\n",
       "        vertical-align: middle;\n",
       "    }\n",
       "\n",
       "    .dataframe tbody tr th {\n",
       "        vertical-align: top;\n",
       "    }\n",
       "\n",
       "    .dataframe thead th {\n",
       "        text-align: right;\n",
       "    }\n",
       "</style>\n",
       "<table border=\"1\" class=\"dataframe\">\n",
       "  <thead>\n",
       "    <tr style=\"text-align: right;\">\n",
       "      <th></th>\n",
       "      <th>customer_id</th>\n",
       "      <th>recency</th>\n",
       "      <th>frequency</th>\n",
       "      <th>monetary</th>\n",
       "      <th>recency_score</th>\n",
       "      <th>frequency_score</th>\n",
       "      <th>monetary_score</th>\n",
       "      <th>RF_SCORE</th>\n",
       "    </tr>\n",
       "  </thead>\n",
       "  <tbody>\n",
       "    <tr>\n",
       "      <th>0</th>\n",
       "      <td>cc294636-19f0-11eb-8d74-000d3a38a36f</td>\n",
       "      <td>95</td>\n",
       "      <td>5.000</td>\n",
       "      <td>939.370</td>\n",
       "      <td>3</td>\n",
       "      <td>4</td>\n",
       "      <td>4</td>\n",
       "      <td>34</td>\n",
       "    </tr>\n",
       "    <tr>\n",
       "      <th>1</th>\n",
       "      <td>f431bd5a-ab7b-11e9-a2fc-000d3a38a36f</td>\n",
       "      <td>105</td>\n",
       "      <td>21.000</td>\n",
       "      <td>2013.550</td>\n",
       "      <td>3</td>\n",
       "      <td>5</td>\n",
       "      <td>5</td>\n",
       "      <td>35</td>\n",
       "    </tr>\n",
       "    <tr>\n",
       "      <th>2</th>\n",
       "      <td>69b69676-1a40-11ea-941b-000d3a38a36f</td>\n",
       "      <td>186</td>\n",
       "      <td>5.000</td>\n",
       "      <td>585.320</td>\n",
       "      <td>2</td>\n",
       "      <td>4</td>\n",
       "      <td>3</td>\n",
       "      <td>24</td>\n",
       "    </tr>\n",
       "    <tr>\n",
       "      <th>3</th>\n",
       "      <td>1854e56c-491f-11eb-806e-000d3a38a36f</td>\n",
       "      <td>135</td>\n",
       "      <td>2.000</td>\n",
       "      <td>121.970</td>\n",
       "      <td>3</td>\n",
       "      <td>1</td>\n",
       "      <td>1</td>\n",
       "      <td>31</td>\n",
       "    </tr>\n",
       "    <tr>\n",
       "      <th>4</th>\n",
       "      <td>d6ea1074-f1f5-11e9-9346-000d3a38a36f</td>\n",
       "      <td>86</td>\n",
       "      <td>2.000</td>\n",
       "      <td>209.980</td>\n",
       "      <td>3</td>\n",
       "      <td>1</td>\n",
       "      <td>1</td>\n",
       "      <td>31</td>\n",
       "    </tr>\n",
       "  </tbody>\n",
       "</table>\n",
       "</div>"
      ],
      "text/plain": [
       "                            customer_id  recency  frequency  monetary  \\\n",
       "0  cc294636-19f0-11eb-8d74-000d3a38a36f       95      5.000   939.370   \n",
       "1  f431bd5a-ab7b-11e9-a2fc-000d3a38a36f      105     21.000  2013.550   \n",
       "2  69b69676-1a40-11ea-941b-000d3a38a36f      186      5.000   585.320   \n",
       "3  1854e56c-491f-11eb-806e-000d3a38a36f      135      2.000   121.970   \n",
       "4  d6ea1074-f1f5-11e9-9346-000d3a38a36f       86      2.000   209.980   \n",
       "\n",
       "  recency_score frequency_score monetary_score RF_SCORE  \n",
       "0             3               4              4       34  \n",
       "1             3               5              5       35  \n",
       "2             2               4              3       24  \n",
       "3             3               1              1       31  \n",
       "4             3               1              1       31  "
      ]
     },
     "execution_count": 26,
     "metadata": {},
     "output_type": "execute_result"
    }
   ],
   "source": [
    "rfm['RF_SCORE'] = rfm['recency_score'].astype(str) + rfm['frequency_score'].astype(str)\n",
    "rfm.head()"
   ]
  },
  {
   "attachments": {},
   "cell_type": "markdown",
   "metadata": {},
   "source": [
    "# Task 4: \n",
    "Segment Definition of RF Score.\n"
   ]
  },
  {
   "attachments": {},
   "cell_type": "markdown",
   "metadata": {},
   "source": [
    "Step 1: Segment definitions for RF scores."
   ]
  },
  {
   "cell_type": "code",
   "execution_count": 27,
   "metadata": {},
   "outputs": [],
   "source": [
    "seg_map = {\n",
    "    r'[1-2][1-2]': 'hibernating',\n",
    "    r'[1-2][3-4]': 'at_Risk',\n",
    "    r'[1-2]5': 'cant_loose',\n",
    "    r'3[1-2]': 'about_to_sleep',\n",
    "    r'33': 'need_attention',\n",
    "    r'[3-4][4-5]': 'loyal_customers',\n",
    "    r'41': 'promising',\n",
    "    r'51': 'new_customers',\n",
    "    r'[4-5][2-3]': 'potential_loyalists',\n",
    "    r'5[4-5]': 'champions'\n",
    "    }"
   ]
  },
  {
   "attachments": {},
   "cell_type": "markdown",
   "metadata": {},
   "source": [
    "Step 2: Convert scores into segments."
   ]
  },
  {
   "cell_type": "code",
   "execution_count": 28,
   "metadata": {},
   "outputs": [
    {
     "data": {
      "text/html": [
       "<div>\n",
       "<style scoped>\n",
       "    .dataframe tbody tr th:only-of-type {\n",
       "        vertical-align: middle;\n",
       "    }\n",
       "\n",
       "    .dataframe tbody tr th {\n",
       "        vertical-align: top;\n",
       "    }\n",
       "\n",
       "    .dataframe thead th {\n",
       "        text-align: right;\n",
       "    }\n",
       "</style>\n",
       "<table border=\"1\" class=\"dataframe\">\n",
       "  <thead>\n",
       "    <tr style=\"text-align: right;\">\n",
       "      <th></th>\n",
       "      <th>customer_id</th>\n",
       "      <th>recency</th>\n",
       "      <th>frequency</th>\n",
       "      <th>monetary</th>\n",
       "      <th>recency_score</th>\n",
       "      <th>frequency_score</th>\n",
       "      <th>monetary_score</th>\n",
       "      <th>RF_SCORE</th>\n",
       "      <th>segment</th>\n",
       "    </tr>\n",
       "  </thead>\n",
       "  <tbody>\n",
       "    <tr>\n",
       "      <th>0</th>\n",
       "      <td>cc294636-19f0-11eb-8d74-000d3a38a36f</td>\n",
       "      <td>95</td>\n",
       "      <td>5.000</td>\n",
       "      <td>939.370</td>\n",
       "      <td>3</td>\n",
       "      <td>4</td>\n",
       "      <td>4</td>\n",
       "      <td>34</td>\n",
       "      <td>loyal_customers</td>\n",
       "    </tr>\n",
       "    <tr>\n",
       "      <th>1</th>\n",
       "      <td>f431bd5a-ab7b-11e9-a2fc-000d3a38a36f</td>\n",
       "      <td>105</td>\n",
       "      <td>21.000</td>\n",
       "      <td>2013.550</td>\n",
       "      <td>3</td>\n",
       "      <td>5</td>\n",
       "      <td>5</td>\n",
       "      <td>35</td>\n",
       "      <td>loyal_customers</td>\n",
       "    </tr>\n",
       "    <tr>\n",
       "      <th>2</th>\n",
       "      <td>69b69676-1a40-11ea-941b-000d3a38a36f</td>\n",
       "      <td>186</td>\n",
       "      <td>5.000</td>\n",
       "      <td>585.320</td>\n",
       "      <td>2</td>\n",
       "      <td>4</td>\n",
       "      <td>3</td>\n",
       "      <td>24</td>\n",
       "      <td>at_Risk</td>\n",
       "    </tr>\n",
       "    <tr>\n",
       "      <th>3</th>\n",
       "      <td>1854e56c-491f-11eb-806e-000d3a38a36f</td>\n",
       "      <td>135</td>\n",
       "      <td>2.000</td>\n",
       "      <td>121.970</td>\n",
       "      <td>3</td>\n",
       "      <td>1</td>\n",
       "      <td>1</td>\n",
       "      <td>31</td>\n",
       "      <td>about_to_sleep</td>\n",
       "    </tr>\n",
       "    <tr>\n",
       "      <th>4</th>\n",
       "      <td>d6ea1074-f1f5-11e9-9346-000d3a38a36f</td>\n",
       "      <td>86</td>\n",
       "      <td>2.000</td>\n",
       "      <td>209.980</td>\n",
       "      <td>3</td>\n",
       "      <td>1</td>\n",
       "      <td>1</td>\n",
       "      <td>31</td>\n",
       "      <td>about_to_sleep</td>\n",
       "    </tr>\n",
       "  </tbody>\n",
       "</table>\n",
       "</div>"
      ],
      "text/plain": [
       "                            customer_id  recency  frequency  monetary  \\\n",
       "0  cc294636-19f0-11eb-8d74-000d3a38a36f       95      5.000   939.370   \n",
       "1  f431bd5a-ab7b-11e9-a2fc-000d3a38a36f      105     21.000  2013.550   \n",
       "2  69b69676-1a40-11ea-941b-000d3a38a36f      186      5.000   585.320   \n",
       "3  1854e56c-491f-11eb-806e-000d3a38a36f      135      2.000   121.970   \n",
       "4  d6ea1074-f1f5-11e9-9346-000d3a38a36f       86      2.000   209.980   \n",
       "\n",
       "  recency_score frequency_score monetary_score RF_SCORE          segment  \n",
       "0             3               4              4       34  loyal_customers  \n",
       "1             3               5              5       35  loyal_customers  \n",
       "2             2               4              3       24          at_Risk  \n",
       "3             3               1              1       31   about_to_sleep  \n",
       "4             3               1              1       31   about_to_sleep  "
      ]
     },
     "execution_count": 28,
     "metadata": {},
     "output_type": "execute_result"
    }
   ],
   "source": [
    "rfm['segment'] = rfm['RF_SCORE'].replace(seg_map, regex=True)\n",
    "rfm.head()"
   ]
  },
  {
   "attachments": {},
   "cell_type": "markdown",
   "metadata": {},
   "source": [
    "# Task 5: \n",
    "Time for action!"
   ]
  },
  {
   "attachments": {},
   "cell_type": "markdown",
   "metadata": {},
   "source": [
    "Step 1: Examine the 'recency', 'frequency' and 'monetary' averages of the segments."
   ]
  },
  {
   "cell_type": "code",
   "execution_count": 29,
   "metadata": {},
   "outputs": [
    {
     "data": {
      "text/html": [
       "<div>\n",
       "<style scoped>\n",
       "    .dataframe tbody tr th:only-of-type {\n",
       "        vertical-align: middle;\n",
       "    }\n",
       "\n",
       "    .dataframe tbody tr th {\n",
       "        vertical-align: top;\n",
       "    }\n",
       "\n",
       "    .dataframe thead tr th {\n",
       "        text-align: left;\n",
       "    }\n",
       "\n",
       "    .dataframe thead tr:last-of-type th {\n",
       "        text-align: right;\n",
       "    }\n",
       "</style>\n",
       "<table border=\"1\" class=\"dataframe\">\n",
       "  <thead>\n",
       "    <tr>\n",
       "      <th></th>\n",
       "      <th colspan=\"2\" halign=\"left\">recency</th>\n",
       "      <th colspan=\"2\" halign=\"left\">frequency</th>\n",
       "      <th colspan=\"2\" halign=\"left\">monetary</th>\n",
       "    </tr>\n",
       "    <tr>\n",
       "      <th></th>\n",
       "      <th>mean</th>\n",
       "      <th>count</th>\n",
       "      <th>mean</th>\n",
       "      <th>count</th>\n",
       "      <th>mean</th>\n",
       "      <th>count</th>\n",
       "    </tr>\n",
       "    <tr>\n",
       "      <th>segment</th>\n",
       "      <th></th>\n",
       "      <th></th>\n",
       "      <th></th>\n",
       "      <th></th>\n",
       "      <th></th>\n",
       "      <th></th>\n",
       "    </tr>\n",
       "  </thead>\n",
       "  <tbody>\n",
       "    <tr>\n",
       "      <th>about_to_sleep</th>\n",
       "      <td>113.785</td>\n",
       "      <td>1629</td>\n",
       "      <td>2.401</td>\n",
       "      <td>1629</td>\n",
       "      <td>359.009</td>\n",
       "      <td>1629</td>\n",
       "    </tr>\n",
       "    <tr>\n",
       "      <th>at_Risk</th>\n",
       "      <td>241.607</td>\n",
       "      <td>3131</td>\n",
       "      <td>4.472</td>\n",
       "      <td>3131</td>\n",
       "      <td>646.610</td>\n",
       "      <td>3131</td>\n",
       "    </tr>\n",
       "    <tr>\n",
       "      <th>cant_loose</th>\n",
       "      <td>235.444</td>\n",
       "      <td>1200</td>\n",
       "      <td>10.698</td>\n",
       "      <td>1200</td>\n",
       "      <td>1474.468</td>\n",
       "      <td>1200</td>\n",
       "    </tr>\n",
       "    <tr>\n",
       "      <th>champions</th>\n",
       "      <td>17.107</td>\n",
       "      <td>1932</td>\n",
       "      <td>8.934</td>\n",
       "      <td>1932</td>\n",
       "      <td>1406.625</td>\n",
       "      <td>1932</td>\n",
       "    </tr>\n",
       "    <tr>\n",
       "      <th>hibernating</th>\n",
       "      <td>247.950</td>\n",
       "      <td>3604</td>\n",
       "      <td>2.394</td>\n",
       "      <td>3604</td>\n",
       "      <td>366.267</td>\n",
       "      <td>3604</td>\n",
       "    </tr>\n",
       "    <tr>\n",
       "      <th>loyal_customers</th>\n",
       "      <td>82.595</td>\n",
       "      <td>3361</td>\n",
       "      <td>8.375</td>\n",
       "      <td>3361</td>\n",
       "      <td>1216.819</td>\n",
       "      <td>3361</td>\n",
       "    </tr>\n",
       "    <tr>\n",
       "      <th>need_attention</th>\n",
       "      <td>113.829</td>\n",
       "      <td>823</td>\n",
       "      <td>3.728</td>\n",
       "      <td>823</td>\n",
       "      <td>562.143</td>\n",
       "      <td>823</td>\n",
       "    </tr>\n",
       "    <tr>\n",
       "      <th>new_customers</th>\n",
       "      <td>17.918</td>\n",
       "      <td>680</td>\n",
       "      <td>2.000</td>\n",
       "      <td>680</td>\n",
       "      <td>339.956</td>\n",
       "      <td>680</td>\n",
       "    </tr>\n",
       "    <tr>\n",
       "      <th>potential_loyalists</th>\n",
       "      <td>37.156</td>\n",
       "      <td>2938</td>\n",
       "      <td>3.304</td>\n",
       "      <td>2938</td>\n",
       "      <td>533.184</td>\n",
       "      <td>2938</td>\n",
       "    </tr>\n",
       "    <tr>\n",
       "      <th>promising</th>\n",
       "      <td>58.921</td>\n",
       "      <td>647</td>\n",
       "      <td>2.000</td>\n",
       "      <td>647</td>\n",
       "      <td>335.673</td>\n",
       "      <td>647</td>\n",
       "    </tr>\n",
       "  </tbody>\n",
       "</table>\n",
       "</div>"
      ],
      "text/plain": [
       "                    recency       frequency       monetary      \n",
       "                       mean count      mean count     mean count\n",
       "segment                                                         \n",
       "about_to_sleep      113.785  1629     2.401  1629  359.009  1629\n",
       "at_Risk             241.607  3131     4.472  3131  646.610  3131\n",
       "cant_loose          235.444  1200    10.698  1200 1474.468  1200\n",
       "champions            17.107  1932     8.934  1932 1406.625  1932\n",
       "hibernating         247.950  3604     2.394  3604  366.267  3604\n",
       "loyal_customers      82.595  3361     8.375  3361 1216.819  3361\n",
       "need_attention      113.829   823     3.728   823  562.143   823\n",
       "new_customers        17.918   680     2.000   680  339.956   680\n",
       "potential_loyalists  37.156  2938     3.304  2938  533.184  2938\n",
       "promising            58.921   647     2.000   647  335.673   647"
      ]
     },
     "execution_count": 29,
     "metadata": {},
     "output_type": "execute_result"
    }
   ],
   "source": [
    "rfm.groupby('segment').agg({'recency': ['mean', 'count'], \n",
    "                            'frequency': ['mean', 'count'], \n",
    "                            'monetary': ['mean', 'count']})"
   ]
  },
  {
   "attachments": {},
   "cell_type": "markdown",
   "metadata": {},
   "source": [
    "Step 2: With the help of RFM analysis, find the customers in the relevant profile for the 2 cases given below and save the customer IDs as csv. "
   ]
  },
  {
   "attachments": {},
   "cell_type": "markdown",
   "metadata": {},
   "source": [
    "a. FLO includes a new women's shoe brand. The product prices of the brand it includes are above the general customer preferences. For this reason, it is desired to contact the customers in the profile that will be interested in the promotion of the brand and product sales.\n",
    "Those who shop from their loyal customers (champions, loyal_customers) and women category are the customers to be contacted specifically. Save the id numbers of these customers to the csv file."
   ]
  },
  {
   "cell_type": "code",
   "execution_count": 30,
   "metadata": {},
   "outputs": [],
   "source": [
    "# Loyal customers: 'champions', 'loyal_customers'\n",
    "loyal_customers_id = rfm[rfm['segment'].isin(['champions', 'loyal_customers'])]['customer_id']"
   ]
  },
  {
   "cell_type": "code",
   "execution_count": 31,
   "metadata": {},
   "outputs": [
    {
     "data": {
      "text/plain": [
       "(2497,)"
      ]
     },
     "execution_count": 31,
     "metadata": {},
     "output_type": "execute_result"
    }
   ],
   "source": [
    "# Target customers: Woman\n",
    "target_customers_id = df[(df['master_id'].isin(loyal_customers_id)) & (df['interested_in_categories_12'].str.contains('KADIN'))]['master_id']\n",
    "target_customers_id.shape"
   ]
  },
  {
   "cell_type": "code",
   "execution_count": 32,
   "metadata": {},
   "outputs": [],
   "source": [
    "# Export as csv file\n",
    "target_customers_id.to_csv('target_customers_id.csv', index=False)"
   ]
  },
  {
   "attachments": {},
   "cell_type": "markdown",
   "metadata": {},
   "source": [
    "b. Nearly 40% discount is planned for Men's and Children's products. It is aimed to specifically target customers who are good customers in the past, but who have not shopped for a long time, who are interested in the categories related to this discount, who should not be lost, those who are asleep and new customers. Save the ids of the customers in the appropriate profile to the csv file."
   ]
  },
  {
   "cell_type": "code",
   "execution_count": 33,
   "metadata": {},
   "outputs": [],
   "source": [
    "# Good customers: 'new_customer', 'hibernating', 'cant_loose'\n",
    "good_customers_id = rfm[rfm['segment'].isin(['new_customer', 'hibernating', 'cant_loose'])]['customer_id']"
   ]
  },
  {
   "cell_type": "code",
   "execution_count": 34,
   "metadata": {},
   "outputs": [
    {
     "data": {
      "text/plain": [
       "(2594,)"
      ]
     },
     "execution_count": 34,
     "metadata": {},
     "output_type": "execute_result"
    }
   ],
   "source": [
    "# Target customers for discount: Man, child\n",
    "discount_customers_id = df[(df['master_id'].isin(good_customers_id)) & ((df['interested_in_categories_12'].str.contains('ERKEK')) | (df['interested_in_categories_12'].str.contains('COCUK')))]['master_id']\n",
    "discount_customers_id.shape"
   ]
  },
  {
   "cell_type": "code",
   "execution_count": 35,
   "metadata": {},
   "outputs": [],
   "source": [
    "# Export as csv file\n",
    "discount_customers_id.to_csv('discount_customers_id.csv', index=False)"
   ]
  },
  {
   "attachments": {},
   "cell_type": "markdown",
   "metadata": {},
   "source": [
    "# Task 6: \n",
    "Functionalize the whole process."
   ]
  },
  {
   "cell_type": "code",
   "execution_count": 36,
   "metadata": {},
   "outputs": [],
   "source": [
    "df = df_.copy()"
   ]
  },
  {
   "cell_type": "code",
   "execution_count": 37,
   "metadata": {},
   "outputs": [
    {
     "data": {
      "text/html": [
       "<div>\n",
       "<style scoped>\n",
       "    .dataframe tbody tr th:only-of-type {\n",
       "        vertical-align: middle;\n",
       "    }\n",
       "\n",
       "    .dataframe tbody tr th {\n",
       "        vertical-align: top;\n",
       "    }\n",
       "\n",
       "    .dataframe thead th {\n",
       "        text-align: right;\n",
       "    }\n",
       "</style>\n",
       "<table border=\"1\" class=\"dataframe\">\n",
       "  <thead>\n",
       "    <tr style=\"text-align: right;\">\n",
       "      <th></th>\n",
       "      <th>customer_id</th>\n",
       "      <th>recency</th>\n",
       "      <th>frequency</th>\n",
       "      <th>monetary</th>\n",
       "      <th>RF_SCORE</th>\n",
       "      <th>RFM_SCORE</th>\n",
       "      <th>segment</th>\n",
       "    </tr>\n",
       "  </thead>\n",
       "  <tbody>\n",
       "    <tr>\n",
       "      <th>0</th>\n",
       "      <td>cc294636-19f0-11eb-8d74-000d3a38a36f</td>\n",
       "      <td>95</td>\n",
       "      <td>5.000</td>\n",
       "      <td>939.370</td>\n",
       "      <td>34</td>\n",
       "      <td>344</td>\n",
       "      <td>loyal_customers</td>\n",
       "    </tr>\n",
       "    <tr>\n",
       "      <th>1</th>\n",
       "      <td>f431bd5a-ab7b-11e9-a2fc-000d3a38a36f</td>\n",
       "      <td>105</td>\n",
       "      <td>21.000</td>\n",
       "      <td>2013.550</td>\n",
       "      <td>35</td>\n",
       "      <td>355</td>\n",
       "      <td>loyal_customers</td>\n",
       "    </tr>\n",
       "    <tr>\n",
       "      <th>2</th>\n",
       "      <td>69b69676-1a40-11ea-941b-000d3a38a36f</td>\n",
       "      <td>186</td>\n",
       "      <td>5.000</td>\n",
       "      <td>585.320</td>\n",
       "      <td>24</td>\n",
       "      <td>243</td>\n",
       "      <td>at_Risk</td>\n",
       "    </tr>\n",
       "    <tr>\n",
       "      <th>3</th>\n",
       "      <td>1854e56c-491f-11eb-806e-000d3a38a36f</td>\n",
       "      <td>135</td>\n",
       "      <td>2.000</td>\n",
       "      <td>121.970</td>\n",
       "      <td>31</td>\n",
       "      <td>311</td>\n",
       "      <td>about_to_sleep</td>\n",
       "    </tr>\n",
       "    <tr>\n",
       "      <th>4</th>\n",
       "      <td>d6ea1074-f1f5-11e9-9346-000d3a38a36f</td>\n",
       "      <td>86</td>\n",
       "      <td>2.000</td>\n",
       "      <td>209.980</td>\n",
       "      <td>31</td>\n",
       "      <td>311</td>\n",
       "      <td>about_to_sleep</td>\n",
       "    </tr>\n",
       "    <tr>\n",
       "      <th>5</th>\n",
       "      <td>e585280e-aae1-11e9-a2fc-000d3a38a36f</td>\n",
       "      <td>80</td>\n",
       "      <td>3.000</td>\n",
       "      <td>200.860</td>\n",
       "      <td>42</td>\n",
       "      <td>421</td>\n",
       "      <td>potential_loyalists</td>\n",
       "    </tr>\n",
       "    <tr>\n",
       "      <th>6</th>\n",
       "      <td>c445e4ee-6242-11ea-9d1a-000d3a38a36f</td>\n",
       "      <td>226</td>\n",
       "      <td>4.000</td>\n",
       "      <td>375.930</td>\n",
       "      <td>23</td>\n",
       "      <td>232</td>\n",
       "      <td>at_Risk</td>\n",
       "    </tr>\n",
       "    <tr>\n",
       "      <th>7</th>\n",
       "      <td>3f1b4dc8-8a7d-11ea-8ec0-000d3a38a36f</td>\n",
       "      <td>293</td>\n",
       "      <td>2.000</td>\n",
       "      <td>163.630</td>\n",
       "      <td>11</td>\n",
       "      <td>111</td>\n",
       "      <td>hibernating</td>\n",
       "    </tr>\n",
       "    <tr>\n",
       "      <th>8</th>\n",
       "      <td>cfbda69e-5b4f-11ea-aca7-000d3a38a36f</td>\n",
       "      <td>86</td>\n",
       "      <td>5.000</td>\n",
       "      <td>1054.690</td>\n",
       "      <td>34</td>\n",
       "      <td>345</td>\n",
       "      <td>loyal_customers</td>\n",
       "    </tr>\n",
       "    <tr>\n",
       "      <th>9</th>\n",
       "      <td>1143f032-440d-11ea-8b43-000d3a38a36f</td>\n",
       "      <td>240</td>\n",
       "      <td>2.000</td>\n",
       "      <td>165.960</td>\n",
       "      <td>11</td>\n",
       "      <td>111</td>\n",
       "      <td>hibernating</td>\n",
       "    </tr>\n",
       "  </tbody>\n",
       "</table>\n",
       "</div>"
      ],
      "text/plain": [
       "                            customer_id  recency  frequency  monetary  \\\n",
       "0  cc294636-19f0-11eb-8d74-000d3a38a36f       95      5.000   939.370   \n",
       "1  f431bd5a-ab7b-11e9-a2fc-000d3a38a36f      105     21.000  2013.550   \n",
       "2  69b69676-1a40-11ea-941b-000d3a38a36f      186      5.000   585.320   \n",
       "3  1854e56c-491f-11eb-806e-000d3a38a36f      135      2.000   121.970   \n",
       "4  d6ea1074-f1f5-11e9-9346-000d3a38a36f       86      2.000   209.980   \n",
       "5  e585280e-aae1-11e9-a2fc-000d3a38a36f       80      3.000   200.860   \n",
       "6  c445e4ee-6242-11ea-9d1a-000d3a38a36f      226      4.000   375.930   \n",
       "7  3f1b4dc8-8a7d-11ea-8ec0-000d3a38a36f      293      2.000   163.630   \n",
       "8  cfbda69e-5b4f-11ea-aca7-000d3a38a36f       86      5.000  1054.690   \n",
       "9  1143f032-440d-11ea-8b43-000d3a38a36f      240      2.000   165.960   \n",
       "\n",
       "  RF_SCORE RFM_SCORE              segment  \n",
       "0       34       344      loyal_customers  \n",
       "1       35       355      loyal_customers  \n",
       "2       24       243              at_Risk  \n",
       "3       31       311       about_to_sleep  \n",
       "4       31       311       about_to_sleep  \n",
       "5       42       421  potential_loyalists  \n",
       "6       23       232              at_Risk  \n",
       "7       11       111          hibernating  \n",
       "8       34       345      loyal_customers  \n",
       "9       11       111          hibernating  "
      ]
     },
     "execution_count": 37,
     "metadata": {},
     "output_type": "execute_result"
    }
   ],
   "source": [
    "def rfm_analysis(dataframe, csv=False):\n",
    "    # Data Preperation\n",
    "    dataframe['total_order_omnichannel'] = dataframe['order_num_total_ever_online'] + dataframe['order_num_total_ever_offline']\n",
    "    dataframe['total_price_omnichannel'] = dataframe['customer_value_total_ever_online'] + dataframe['customer_value_total_ever_offline']\n",
    "    date_cols = dataframe.columns[dataframe.columns.str.contains('date')]\n",
    "    dataframe[date_cols] = dataframe[date_cols].apply(pd.to_datetime)\n",
    "\n",
    "    # Calculating RFM Metrics\n",
    "    dataframe['last_order_date'].max() # Timestamp('2021-05-30 00:00:00') \n",
    "    analysis_date = dt.datetime(2021, 6, 1)\n",
    "\n",
    "    rfm = df.agg({'master_id': lambda id: id, \n",
    "                  'last_order_date': lambda last_order: (analysis_date - last_order).days, \n",
    "                  'total_order_omnichannel': lambda total_order: total_order, \n",
    "                  'total_price_omnichannel': lambda total_price: total_price})\n",
    "\n",
    "    rfm.columns = ['customer_id', 'recency', 'frequency', 'monetary'] # Rename columns\n",
    "\n",
    "    # Calculating RF Scores\n",
    "    rfm['recency_score'] = pd.qcut(rfm['recency'], 5, labels=[5, 4, 3, 2, 1])\n",
    "    rfm['frequency_score'] = pd.qcut(rfm['frequency'].rank(method='first'), 5, labels=[1, 2, 3, 4, 5])\n",
    "    rfm['monetary_score'] = pd.qcut(rfm['monetary'], 5, labels=[1, 2, 3, 4, 5])\n",
    "    rfm['RF_SCORE'] = rfm['recency_score'].astype(str) + rfm['frequency_score'].astype(str)\n",
    "    rfm['RFM_SCORE'] = (rfm['recency_score'].astype(str) + rfm['frequency_score'].astype(str) + rfm['monetary_score'].astype(str))\n",
    "    \n",
    "    # Segmentation\n",
    "    seg_map = {\n",
    "        r'[1-2][1-2]': 'hibernating',\n",
    "        r'[1-2][3-4]': 'at_Risk',\n",
    "        r'[1-2]5': 'cant_loose',\n",
    "        r'3[1-2]': 'about_to_sleep',\n",
    "        r'33': 'need_attention',\n",
    "        r'[3-4][4-5]': 'loyal_customers',\n",
    "        r'41': 'promising',\n",
    "        r'51': 'new_customers',\n",
    "         r'[4-5][2-3]': 'potential_loyalists',\n",
    "        r'5[4-5]': 'champions'\n",
    "    }\n",
    "    rfm['segment'] = rfm['RF_SCORE'].replace(seg_map, regex=True)\n",
    "\n",
    "    if csv: \n",
    "        rfm.to_csv('rfm.csv') \n",
    "    return rfm[['customer_id', 'recency', 'frequency', 'monetary', 'RF_SCORE', 'RFM_SCORE', 'segment']]\n",
    "\n",
    "\n",
    "rfm_analysis(df, csv=False)[:10]"
   ]
  }
 ],
 "metadata": {
  "kernelspec": {
   "display_name": "base",
   "language": "python",
   "name": "python3"
  },
  "language_info": {
   "codemirror_mode": {
    "name": "ipython",
    "version": 3
   },
   "file_extension": ".py",
   "mimetype": "text/x-python",
   "name": "python",
   "nbconvert_exporter": "python",
   "pygments_lexer": "ipython3",
   "version": "3.10.13"
  },
  "orig_nbformat": 4
 },
 "nbformat": 4,
 "nbformat_minor": 2
}
